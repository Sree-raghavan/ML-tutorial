{
  "nbformat": 4,
  "nbformat_minor": 0,
  "metadata": {
    "colab": {
      "name": "ML_tutorial_1.ipynb",
      "provenance": [],
      "authorship_tag": "ABX9TyOzTHhoVeeaqX5AtFhXNGzH",
      "include_colab_link": true
    },
    "kernelspec": {
      "name": "python3",
      "display_name": "Python 3"
    }
  },
  "cells": [
    {
      "cell_type": "markdown",
      "metadata": {
        "id": "view-in-github",
        "colab_type": "text"
      },
      "source": [
        "<a href=\"https://colab.research.google.com/github/Sree-raghavan/ML-tutorial/blob/main/ML_tutorial_1.ipynb\" target=\"_parent\"><img src=\"https://colab.research.google.com/assets/colab-badge.svg\" alt=\"Open In Colab\"/></a>"
      ]
    },
    {
      "cell_type": "code",
      "metadata": {
        "id": "PRC-U8XtAffj"
      },
      "source": [
        "import pandas as pd\r\n",
        "col_names = ['pregnant', 'glucose', 'bp', 'skin', 'insulin', 'bmi', 'pedigree', 'age', 'label']\r\n",
        "\r\n",
        "pima = pd.read_csv(\"diabetes.csv\", header=None,skiprows=1, names=col_names)"
      ],
      "execution_count": null,
      "outputs": []
    },
    {
      "cell_type": "code",
      "metadata": {
        "id": "L8Ojw1d0DDrp"
      },
      "source": [
        "pima.head()"
      ],
      "execution_count": null,
      "outputs": []
    },
    {
      "cell_type": "code",
      "metadata": {
        "id": "YwXIcVxvDKPA"
      },
      "source": [
        "feature_cols = ['pregnant', 'insulin', 'bmi', 'age','glucose','bp','pedigree']\r\n",
        "X = pima[feature_cols] # Features\r\n",
        "y = pima.label # Target variable"
      ],
      "execution_count": null,
      "outputs": []
    },
    {
      "cell_type": "code",
      "metadata": {
        "id": "2X4f3CtTEguI"
      },
      "source": [
        "from sklearn.model_selection import train_test_split\r\n",
        "X_train,X_test,y_train,y_test=train_test_split(X,y,test_size=0.25,random_state=0)"
      ],
      "execution_count": null,
      "outputs": []
    },
    {
      "cell_type": "code",
      "metadata": {
        "id": "EqrZlBitFP8g"
      },
      "source": [
        "\r\n",
        "\r\n",
        "from sklearn.linear_model import LogisticRegression\r\n",
        "\r\n",
        "# instantiate the model (using the default parameters)\r\n",
        "logreg = LogisticRegression()\r\n",
        "\r\n",
        "# fit the model with data\r\n",
        "logreg.fit(X_train,y_train)\r\n",
        "\r\n",
        "#testing\r\n",
        "y_pred=logreg.predict(X_test)"
      ],
      "execution_count": null,
      "outputs": []
    },
    {
      "cell_type": "code",
      "metadata": {
        "colab": {
          "base_uri": "https://localhost:8080/"
        },
        "id": "v0oCjDahMGUN",
        "outputId": "3030735e-d4be-40ec-d373-e5409ab7533e"
      },
      "source": [
        "from sklearn import metrics\r\n",
        "cnf_matrix = metrics.confusion_matrix(y_test, y_pred)\r\n",
        "cnf_matrix"
      ],
      "execution_count": null,
      "outputs": [
        {
          "output_type": "execute_result",
          "data": {
            "text/plain": [
              "array([[117,  13],\n",
              "       [ 24,  38]])"
            ]
          },
          "metadata": {
            "tags": []
          },
          "execution_count": 30
        }
      ]
    },
    {
      "cell_type": "code",
      "metadata": {
        "colab": {
          "base_uri": "https://localhost:8080/"
        },
        "id": "ILnOubv4MLXl",
        "outputId": "42e318e6-ab20-482c-d44e-d18443d834dd"
      },
      "source": [
        "print(\"Accuracy:\",metrics.accuracy_score(y_test, y_pred))"
      ],
      "execution_count": null,
      "outputs": [
        {
          "output_type": "stream",
          "text": [
            "Accuracy: 0.8072916666666666\n"
          ],
          "name": "stdout"
        }
      ]
    }
  ]
}